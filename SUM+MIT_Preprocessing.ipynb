{
  "nbformat": 4,
  "nbformat_minor": 0,
  "metadata": {
    "colab": {
      "name": "SUM+MIT_Preprocessing.ipynb",
      "version": "0.3.2",
      "provenance": [],
      "collapsed_sections": [
        "lJurWLExfWZ3",
        "YciIweEMJvFW",
        "unaqlSpSwK91"
      ],
      "toc_visible": true
    },
    "kernelspec": {
      "name": "python3",
      "display_name": "Python 3"
    }
  },
  "cells": [
    {
      "cell_type": "markdown",
      "metadata": {
        "id": "wMNp0uV1_Rx_",
        "colab_type": "text"
      },
      "source": [
        "# Dataset Preprocessing Phase"
      ]
    },
    {
      "cell_type": "markdown",
      "metadata": {
        "id": "O5NFtrfxAR11",
        "colab_type": "text"
      },
      "source": [
        "This is all the preprocessing necessary for the model. You must perform all these preprocessing steps so that you can have the final clean datasets that will be used to train and test the model (inverted_df and inverted_test_df).\n",
        "\n",
        "Upload \"mnist-60000-hand-written-number-images.zip\" from the MNIST dataset ([Link](https://www.kaggle.com/rakuraku678/mnist-60000-hand-written-number-images))  and \"handwrittenmathsymbols.zip\" from the Kaggle Symbols Dataset ([Link](https://www.kaggle.com/xainano/handwrittenmathsymbols)) before beginning."
      ]
    },
    {
      "cell_type": "markdown",
      "metadata": {
        "id": "lJurWLExfWZ3",
        "colab_type": "text"
      },
      "source": [
        "## Digits preprocessing"
      ]
    },
    {
      "cell_type": "code",
      "metadata": {
        "id": "fqbxS69bAqYL",
        "colab_type": "code",
        "colab": {}
      },
      "source": [
        "# Import all necessary packages\n",
        "from zipfile import ZipFile\n",
        "from sklearn.datasets import load_files\n",
        "import matplotlib.pyplot as plt \n",
        "import pandas as pd\n",
        "import cv2\n",
        "import math"
      ],
      "execution_count": 0,
      "outputs": []
    },
    {
      "cell_type": "code",
      "metadata": {
        "id": "8Fv7sBjBgv8P",
        "colab_type": "code",
        "colab": {}
      },
      "source": [
        "with ZipFile(\"mnist-60000-hand-written-number-images.zip\", \"r\" ) as zipObj:\n",
        "    zipObj.extractall()"
      ],
      "execution_count": 0,
      "outputs": []
    },
    {
      "cell_type": "code",
      "metadata": {
        "id": "iyTFX3l9j0rB",
        "colab_type": "code",
        "colab": {}
      },
      "source": [
        "# Read in csv's containing train and test digits datasets\n",
        "train_digits = pd.read_csv('./mnist_train.csv')\n",
        "test_digits = pd.read_csv('./mnist_test.csv')"
      ],
      "execution_count": 0,
      "outputs": []
    },
    {
      "cell_type": "code",
      "metadata": {
        "id": "CE9dPY-wHOGf",
        "colab_type": "code",
        "colab": {}
      },
      "source": [
        "# We need to rename the columns, but first we'll extract the first column of the train df which is the target columns\n",
        "\n",
        "target = train_digits['5']\n",
        "target.rename(\"Target\")\n",
        "target.head()\n"
      ],
      "execution_count": 0,
      "outputs": []
    },
    {
      "cell_type": "code",
      "metadata": {
        "id": "sIT5tvMKA7io",
        "colab_type": "code",
        "colab": {}
      },
      "source": [
        "# Extract the first column of the tests df which is the target columns\n",
        "\n",
        "target1 = test_digits['7']\n",
        "target1.rename(\"Target\")\n",
        "target1.head()"
      ],
      "execution_count": 0,
      "outputs": []
    },
    {
      "cell_type": "code",
      "metadata": {
        "id": "fDhECN2BA-6m",
        "colab_type": "code",
        "colab": {}
      },
      "source": [
        "train_digits.head()"
      ],
      "execution_count": 0,
      "outputs": []
    },
    {
      "cell_type": "code",
      "metadata": {
        "id": "_bJP48arHvQn",
        "colab_type": "code",
        "colab": {}
      },
      "source": [
        "# Let's drop the column we extracted to make renaming easier\n",
        "train_digits.drop(columns=['5'], inplace=True)\n",
        "train_digits.head()\n",
        "\n",
        "# Do the same for test df\n",
        "test_digits.drop(columns=['7'], inplace=True)"
      ],
      "execution_count": 0,
      "outputs": []
    },
    {
      "cell_type": "code",
      "metadata": {
        "id": "exYSJSZGU35u",
        "colab_type": "code",
        "colab": {}
      },
      "source": [
        "# Normalizing and inverting the colors\n",
        "train_digits = train_digits/255\n",
        "train_digits = abs(1-train_digits)\n",
        "\n",
        "test_digits = test_digits/255\n",
        "test_digits = abs(1-test_digits)"
      ],
      "execution_count": 0,
      "outputs": []
    },
    {
      "cell_type": "code",
      "metadata": {
        "id": "eIj73bz3nKg_",
        "colab_type": "code",
        "colab": {}
      },
      "source": [
        "image_to_view = 27\n",
        "\n",
        "plt.imshow(\n",
        " train_digits.iloc[image_to_view][train_digits.columns.values].values.reshape(28,28),\n",
        " cmap='gray')\n",
        "plt.show()"
      ],
      "execution_count": 0,
      "outputs": []
    },
    {
      "cell_type": "code",
      "metadata": {
        "id": "6wwcXaVavCcW",
        "colab_type": "code",
        "colab": {}
      },
      "source": [
        "# Rename all the columns by their pixel number\n",
        "train_digits.columns = list(range(784))\n",
        "  \n",
        "# Same for test df\n",
        "test_digits.columns = list(range(784))"
      ],
      "execution_count": 0,
      "outputs": []
    },
    {
      "cell_type": "code",
      "metadata": {
        "id": "DiaLU01TILWl",
        "colab_type": "code",
        "colab": {}
      },
      "source": [
        "# Rename and append target column back to the dataframe\n",
        "train_digits['Target'] = target\n",
        "\n",
        "# Same for test df\n",
        "test_digits['Target'] = target1\n",
        "train_digits.head()"
      ],
      "execution_count": 0,
      "outputs": []
    },
    {
      "cell_type": "code",
      "metadata": {
        "id": "cd9bG6N3eIDD",
        "colab_type": "code",
        "colab": {}
      },
      "source": [
        "# Making test and train digits into a csv for faster loading in\n",
        "# in the future (so you only have to do this once and then you can\n",
        "# skip all the cells before this when running again).\n",
        "\n",
        "train_digits.to_csv('train_digits.csv', index=False)\n",
        "test_digits.to_csv('test_digits.csv', index=False)"
      ],
      "execution_count": 0,
      "outputs": []
    },
    {
      "cell_type": "markdown",
      "metadata": {
        "id": "YciIweEMJvFW",
        "colab_type": "text"
      },
      "source": [
        "## Exploratory Data Analysis"
      ]
    },
    {
      "cell_type": "code",
      "metadata": {
        "id": "qeU7g7V8Jucu",
        "colab_type": "code",
        "colab": {}
      },
      "source": [
        "train_digits.describe()"
      ],
      "execution_count": 0,
      "outputs": []
    },
    {
      "cell_type": "code",
      "metadata": {
        "id": "7baJuZFYBQ8f",
        "colab_type": "code",
        "colab": {}
      },
      "source": [
        "test_digits.describe()"
      ],
      "execution_count": 0,
      "outputs": []
    },
    {
      "cell_type": "code",
      "metadata": {
        "id": "lntAz9zhJuYm",
        "colab_type": "code",
        "colab": {}
      },
      "source": [
        "# Let's check if there are any NaN values in the dataset\n",
        "train_digits.isnull().any(axis=1).sum()"
      ],
      "execution_count": 0,
      "outputs": []
    },
    {
      "cell_type": "code",
      "metadata": {
        "id": "Cy2nZjjDBWZg",
        "colab_type": "code",
        "colab": {}
      },
      "source": [
        "test_digits.isnull().any(axis=1).sum()"
      ],
      "execution_count": 0,
      "outputs": []
    },
    {
      "cell_type": "code",
      "metadata": {
        "id": "CC2sNMwIJuV6",
        "colab_type": "code",
        "colab": {}
      },
      "source": [
        "train_digits.duplicated().sum() > 0"
      ],
      "execution_count": 0,
      "outputs": []
    },
    {
      "cell_type": "code",
      "metadata": {
        "id": "nvoq3bIGBZmS",
        "colab_type": "code",
        "colab": {}
      },
      "source": [
        "test_digits.duplicated().sum() > 0"
      ],
      "execution_count": 0,
      "outputs": []
    },
    {
      "cell_type": "markdown",
      "metadata": {
        "colab_type": "text",
        "id": "yk02zijF-z57"
      },
      "source": [
        "##Math Symbols Preprocessing"
      ]
    },
    {
      "cell_type": "code",
      "metadata": {
        "colab_type": "code",
        "id": "2lYzMB7X-z5-",
        "colab": {}
      },
      "source": [
        "# Import all necessary packages for the math symbols dataset\n",
        "from zipfile import ZipFile\n",
        "from sklearn.datasets import load_files\n",
        "import matplotlib.pyplot as plt \n",
        "import pandas as pd\n",
        "import cv2\n",
        "import math\n",
        "import imageio\n",
        "import numpy as np\n",
        "import os"
      ],
      "execution_count": 0,
      "outputs": []
    },
    {
      "cell_type": "code",
      "metadata": {
        "colab_type": "code",
        "id": "JexQJO38-z6G",
        "colab": {}
      },
      "source": [
        "# Install necessary packages\n",
        "!pip install patool\n",
        "!pip install pyunpack\n",
        "import patoolib"
      ],
      "execution_count": 0,
      "outputs": []
    },
    {
      "cell_type": "code",
      "metadata": {
        "colab_type": "code",
        "id": "QvVyVlc5-z6I",
        "colab": {}
      },
      "source": [
        "from zipfile import ZipFile\n",
        "with ZipFile(\"handwrittenmathsymbols.zip\", \"r\" ) as zipObj:\n",
        "    zipObj.extractall()"
      ],
      "execution_count": 0,
      "outputs": []
    },
    {
      "cell_type": "code",
      "metadata": {
        "id": "TFJubXzRQ3Dd",
        "colab_type": "code",
        "colab": {}
      },
      "source": [
        "from pyunpack import Archive\n",
        "Archive('handwrittenmathsymbols.zip').extractall('/')\n",
        "\n",
        "import patoolib\n",
        "patoolib.extract_archive(\"data.rar\")"
      ],
      "execution_count": 0,
      "outputs": []
    },
    {
      "cell_type": "code",
      "metadata": {
        "colab_type": "code",
        "id": "lq8W4olC-z6K",
        "colab": {}
      },
      "source": [
        "!pip install unrar"
      ],
      "execution_count": 0,
      "outputs": []
    },
    {
      "cell_type": "code",
      "metadata": {
        "colab_type": "code",
        "id": "PPoTz9-7-z6Q",
        "colab": {}
      },
      "source": [
        "!pip install rarfile"
      ],
      "execution_count": 0,
      "outputs": []
    },
    {
      "cell_type": "code",
      "metadata": {
        "colab_type": "code",
        "id": "xuQ7-mwf-z6U",
        "colab": {}
      },
      "source": [
        "from rarfile import RarFile\n",
        "\n",
        "with RarFile(\"data.rar\") as rf:\n",
        "    for f in rf.infolist():\n",
        "        with open(f.filename, \"wb\") as of:\n",
        "            of.write(rf.read(f))\n",
        "            \n",
        "# This cell will finish running with \"[Errno 21] Is a directory: 'extracted_images/!'\"\n",
        "# Continue running the remaining cells "
      ],
      "execution_count": 0,
      "outputs": []
    },
    {
      "cell_type": "code",
      "metadata": {
        "colab_type": "code",
        "id": "_RBiApbm-z6W",
        "colab": {}
      },
      "source": [
        "# Deleting duplicates from file\n",
        "def deletefromfolder(path):\n",
        "    datadir = path\n",
        "    print('Directory:', datadir)\n",
        "\n",
        "    rmmap = dict()\n",
        "    total = 0\n",
        "    repeatcnt = 0\n",
        "    for root, directories, filenames in os.walk(datadir):\n",
        "        \n",
        "        for filename in filenames:\n",
        "            total += 1\n",
        "            if filename.endswith('.jpg') and not filename.startswith('._'):\n",
        "                filei = os.path.join(root, filename)\n",
        "                imi = imageio.imread(filei)\n",
        "                npi = np.asarray(imi).reshape(1, -1).reshape((2025, ))\n",
        "                idf = npi.tolist()\n",
        "                for i in range(len(idf)):\n",
        "                    idf[i] = str(idf[i])\n",
        "                strlist = ''.join(idf)\n",
        "\n",
        "                if strlist in rmmap.keys():\n",
        "                    repeatcnt += 1\n",
        "                    rmmap[strlist].append(filename)\n",
        "                else:\n",
        "                    rmmap[strlist] = list()\n",
        "\n",
        "    print('Repeat/Total: {}/{}'.format(repeatcnt, total))\n",
        "    for key in rmmap:\n",
        "        for item in rmmap[key]:\n",
        "            os.remove(os.path.join(datadir, item))\n",
        "\n",
        "if __name__ == '__main__':\n",
        "    images_path = './extracted_images/'\n",
        "    dirlist = os.listdir(images_path)\n",
        "    for item in dirlist:\n",
        "        deletefromfolder(os.path.join(images_path,item))"
      ],
      "execution_count": 0,
      "outputs": []
    },
    {
      "cell_type": "markdown",
      "metadata": {
        "colab_type": "text",
        "id": "pD45iuVR-z6X"
      },
      "source": [
        "##Math Symbols Dataframe"
      ]
    },
    {
      "cell_type": "markdown",
      "metadata": {
        "id": "hquagR5vCHZ5",
        "colab_type": "text"
      },
      "source": [
        "You should now see a folder called extracted_images in your files. This section of the colab will take that folder and create a dataframe from its subfolders. Each row in the dataframe will be an image, its corresponding label will be in the \"Target\" column."
      ]
    },
    {
      "cell_type": "code",
      "metadata": {
        "colab_type": "code",
        "id": "FcWQVvC4-z6Y",
        "colab": {}
      },
      "source": [
        "# Import all necessary packages\n",
        "import os \n",
        "from keras.preprocessing.image import img_to_array\n",
        "import cv2 as cv\n",
        "import pandas as pd\n",
        "import numpy as np\n",
        "from PIL import Image, ImageOps\n",
        "import glob\n",
        "import matplotlib.pyplot as plt\n",
        "import re"
      ],
      "execution_count": 0,
      "outputs": []
    },
    {
      "cell_type": "code",
      "metadata": {
        "colab_type": "code",
        "id": "lVsR44Nq-z6a",
        "colab": {}
      },
      "source": [
        "# Function that creates dictionary with keys and values as arrays of pixel values\n",
        "def list_files(dir):                                                                                                  \n",
        "    r = {}                                                                                                            \n",
        "    subdirs = [x[0] for x in os.walk(dir)]\n",
        "    for subdir in subdirs:\n",
        "      symbols_sub = [Image.open(file) for file in glob.glob(\"{}/*.jpg\".format(subdir))]\n",
        "      r['{}'.format(subdir)] = symbols_sub \n",
        "    return r"
      ],
      "execution_count": 0,
      "outputs": []
    },
    {
      "cell_type": "code",
      "metadata": {
        "colab_type": "code",
        "id": "F_aj7ZaB-z6b",
        "colab": {}
      },
      "source": [
        "# Returns resized image\n",
        "def resize(img, size):\n",
        "  return img.resize(size, Image.ANTIALIAS)"
      ],
      "execution_count": 0,
      "outputs": []
    },
    {
      "cell_type": "code",
      "metadata": {
        "colab_type": "code",
        "id": "5mmoE_Kl-z6d",
        "colab": {}
      },
      "source": [
        "# create dictionary with keys and values as arrays of pixel values\n",
        "pixels_d = list_files(\"./extracted_images\")"
      ],
      "execution_count": 0,
      "outputs": []
    },
    {
      "cell_type": "code",
      "metadata": {
        "colab_type": "code",
        "id": "M3Exk5qh-z6f",
        "colab": {}
      },
      "source": [
        "# Getting all folder names\n",
        "for value in pixels_d.keys():\n",
        "  print(value)"
      ],
      "execution_count": 0,
      "outputs": []
    },
    {
      "cell_type": "code",
      "metadata": {
        "colab_type": "code",
        "id": "jsNCNdl4-z6g",
        "colab": {}
      },
      "source": [
        "# Make sure we are actually getting what we want in cell below\n",
        "for key, value in pixels_d.items():\n",
        "  print((re.split('/', key)))"
      ],
      "execution_count": 0,
      "outputs": []
    },
    {
      "cell_type": "code",
      "metadata": {
        "colab_type": "code",
        "id": "6S8ecCge-z6i",
        "colab": {}
      },
      "source": [
        "# Loop will create a df with all pictures as\n",
        "# rows and columns are the pixels\n",
        "\n",
        "new = []\n",
        "\n",
        "for key, value in pixels_d.items():\n",
        "  # skip the first folder, because its empty\n",
        "  if key == \"./extracted_images\":\n",
        "    continue\n",
        "  else:\n",
        "    # resize every image and turn it into an array\n",
        "    size=(28,28)\n",
        "    value = [resize(img, size=size) for img in value]\n",
        "    value = [img_to_array(img) for img in value]\n",
        "    new.append(value)\n",
        "    for i in range(len(value)):\n",
        "      value[i] = value[i].ravel()\n",
        "    # For first folder, create the big dataframe\n",
        "    # Ensure that the path for the following line matches the first subfolder in\n",
        "    # extracted images which can be found in the previous cell's output\n",
        "    if key == \"./extracted_images/rightarrow\":\n",
        "      big2_df = pd.DataFrame(value)\n",
        "      big2_df /= 255.0\n",
        "      for i in big2_df.columns:\n",
        "        big2_df = big2_df.rename(columns={i: str(i)})\n",
        "      big2_df['Target'] = (re.split('/', key))[2]\n",
        "    # For every other folder, concatenate that df to\n",
        "    # the big df\n",
        "    else:\n",
        "      value_df = pd.DataFrame(value)\n",
        "      value_df /= 255.0\n",
        "      for i in value_df.columns:\n",
        "        value_df = value_df.rename(columns={i: str(i)})\n",
        "      value_df['Target'] = (re.split('/', key))[2]\n",
        "      big2_df = pd.concat([big2_df, value_df], axis=0, sort=False)"
      ],
      "execution_count": 0,
      "outputs": []
    },
    {
      "cell_type": "code",
      "metadata": {
        "colab_type": "code",
        "id": "Xch1G_Xk-z6k",
        "colab": {}
      },
      "source": [
        "# Saves clean big2_df as a csv\n",
        "big2_df.to_csv('big_df.csv', index=False)"
      ],
      "execution_count": 0,
      "outputs": []
    },
    {
      "cell_type": "code",
      "metadata": {
        "colab_type": "code",
        "id": "QTjaAsdd-z6n",
        "colab": {}
      },
      "source": [
        "import os \n",
        "from keras.preprocessing.image import img_to_array\n",
        "import cv2 as cv\n",
        "import pandas as pd\n",
        "import numpy as np\n",
        "from PIL import Image, ImageOps\n",
        "import glob\n",
        "import matplotlib.pyplot as plt\n",
        "import re"
      ],
      "execution_count": 0,
      "outputs": []
    },
    {
      "cell_type": "markdown",
      "metadata": {
        "id": "QtofryEbDCat",
        "colab_type": "text"
      },
      "source": [
        "The following two cells are for visualizing an image from big2_df. We need to create a copy of the dataframe without the target value so that we can reshape the row of pixels into an image. We do that in the first cell. The second cell chooses an image to view (in this case, image 40000) and plots it."
      ]
    },
    {
      "cell_type": "code",
      "metadata": {
        "colab_type": "code",
        "id": "hq49HLq2-z6r",
        "colab": {}
      },
      "source": [
        "# store target column\n",
        "target = big2_df['Target']\n",
        "\n",
        "# Create new df without target column\n",
        "new23_df = big2_df.drop(columns='Target')\n",
        "new23_df.head()"
      ],
      "execution_count": 0,
      "outputs": []
    },
    {
      "cell_type": "code",
      "metadata": {
        "colab_type": "code",
        "id": "axDXGUzj-z6s",
        "colab": {}
      },
      "source": [
        "# Plot series to make sure it is an image\n",
        "image_to_view = 40000\n",
        "\n",
        "plt.imshow(\n",
        " new23_df.iloc[image_to_view][new23_df.columns.values].values.reshape(28,28), cmap='gray')\n",
        "plt.show()"
      ],
      "execution_count": 0,
      "outputs": []
    },
    {
      "cell_type": "markdown",
      "metadata": {
        "colab_type": "text",
        "id": "unaqlSpSwK91"
      },
      "source": [
        "## MNIST + 4 Symbols Model Preprocessing"
      ]
    },
    {
      "cell_type": "code",
      "metadata": {
        "id": "YPgfi8kEfifC",
        "colab_type": "code",
        "colab": {}
      },
      "source": [
        "# Importing all necessary packages\n",
        "\n",
        "from zipfile import ZipFile\n",
        "from sklearn.datasets import load_files\n",
        "import matplotlib.pyplot as plt \n",
        "import pandas as pd\n",
        "import cv2\n",
        "import math\n",
        "import imageio\n",
        "import numpy as np\n",
        "import os \n",
        "from keras.preprocessing.image import img_to_array\n",
        "from PIL import Image, ImageOps\n",
        "import glob\n",
        "import re"
      ],
      "execution_count": 0,
      "outputs": []
    },
    {
      "cell_type": "markdown",
      "metadata": {
        "id": "QvJZsZBfiOqv",
        "colab_type": "text"
      },
      "source": [
        "If it's your first time running the code, you can skip the next cell since you already have the dataframes. Otherwise, run the cell to read in the CSV's."
      ]
    },
    {
      "cell_type": "code",
      "metadata": {
        "id": "aAsikbORwhOf",
        "colab_type": "code",
        "colab": {}
      },
      "source": [
        "# Check that train digits is ready for merging\n",
        "train_digits.head()"
      ],
      "execution_count": 0,
      "outputs": []
    },
    {
      "cell_type": "code",
      "metadata": {
        "colab_type": "code",
        "id": "NJCuH-wQwK98",
        "colab": {}
      },
      "source": [
        "# Create a copy and check it was done successfully\n",
        "simple_df = big2_df\n",
        "simple_df.shape"
      ],
      "execution_count": 0,
      "outputs": []
    },
    {
      "cell_type": "code",
      "metadata": {
        "colab_type": "code",
        "id": "Guue1hCTwK9-",
        "colab": {}
      },
      "source": [
        "# Filter the copied df to include just 4 math operations\n",
        "some_values = ['+', '-', 'div', 'times']\n",
        "simple_df= simple_df[simple_df.Target.isin(some_values)]\n",
        "simple_df.shape"
      ],
      "execution_count": 0,
      "outputs": []
    },
    {
      "cell_type": "code",
      "metadata": {
        "colab_type": "code",
        "id": "oIXhy5NpwK-C",
        "colab": {}
      },
      "source": [
        "# Check that filtering was successful\n",
        "simple_df"
      ],
      "execution_count": 0,
      "outputs": []
    },
    {
      "cell_type": "code",
      "metadata": {
        "colab_type": "code",
        "id": "FrH-fbkIwK-F",
        "colab": {}
      },
      "source": [
        "# Check distribution of symbols\n",
        "simple_df.groupby('Target')['Target'].agg('count')"
      ],
      "execution_count": 0,
      "outputs": []
    },
    {
      "cell_type": "code",
      "metadata": {
        "colab_type": "code",
        "id": "bO9gpx0-wK-L",
        "colab": {}
      },
      "source": [
        "# Shuffle dataframe\n",
        "shuffled_df = simple_df.sample(frac=1).reset_index(drop=True)"
      ],
      "execution_count": 0,
      "outputs": []
    },
    {
      "cell_type": "code",
      "metadata": {
        "colab_type": "code",
        "id": "X6GytOV9wK-N",
        "colab": {}
      },
      "source": [
        "# Make sure its shuffled\n",
        "shuffled_df.head(30)"
      ],
      "execution_count": 0,
      "outputs": []
    },
    {
      "cell_type": "code",
      "metadata": {
        "colab_type": "code",
        "id": "XzNuQMzvwK-R",
        "colab": {}
      },
      "source": [
        "# # map labels to numbers\n",
        "symbols_list = shuffled_df['Target'].unique()\n",
        "di = {}\n",
        "new_list = list(enumerate(symbols_list, start=10))\n",
        "\n",
        "for i in range(len(symbols_list)):\n",
        "  di[new_list[i][1]] = new_list[i][0]"
      ],
      "execution_count": 0,
      "outputs": []
    },
    {
      "cell_type": "code",
      "metadata": {
        "colab_type": "code",
        "id": "oEC3nwSqwK-S",
        "colab": {}
      },
      "source": [
        "# Changing the targets in the df based on the dictionary\n",
        "remapped_df = shuffled_df\n",
        "remapped_df.replace({\"Target\": di}, inplace=True)\n",
        "remapped_df"
      ],
      "execution_count": 0,
      "outputs": []
    },
    {
      "cell_type": "code",
      "metadata": {
        "colab_type": "code",
        "id": "u-eOXx-ywK-U",
        "colab": {}
      },
      "source": [
        "# Make sure it mapped correctly\n",
        "remapped_df['Target'].nunique()"
      ],
      "execution_count": 0,
      "outputs": []
    },
    {
      "cell_type": "code",
      "metadata": {
        "colab_type": "code",
        "id": "IhOAva46wK-W",
        "colab": {}
      },
      "source": [
        "# Split into train and test\n",
        "from sklearn.model_selection import train_test_split\n",
        "\n",
        "train_symbols, test_symbols = train_test_split(\n",
        "  remapped_df,\n",
        "  stratify=remapped_df['Target'],  \n",
        "  test_size=0.2,\n",
        ")"
      ],
      "execution_count": 0,
      "outputs": []
    },
    {
      "cell_type": "markdown",
      "metadata": {
        "colab_type": "text",
        "id": "_jqxxN9NwK-d"
      },
      "source": [
        "And also verify the stratification for training data:"
      ]
    },
    {
      "cell_type": "code",
      "metadata": {
        "colab_type": "code",
        "id": "c2KkFq_rwK-e",
        "colab": {}
      },
      "source": [
        "train_symbols.groupby('Target')['Target'].agg('count')"
      ],
      "execution_count": 0,
      "outputs": []
    },
    {
      "cell_type": "markdown",
      "metadata": {
        "colab_type": "text",
        "id": "LsYiSYuQwK-g"
      },
      "source": [
        "And testing data:"
      ]
    },
    {
      "cell_type": "code",
      "metadata": {
        "colab_type": "code",
        "id": "xVOBsatrwK-i",
        "colab": {}
      },
      "source": [
        "test_symbols.groupby('Target')['Target'].agg('count')"
      ],
      "execution_count": 0,
      "outputs": []
    },
    {
      "cell_type": "code",
      "metadata": {
        "id": "Sw29ToS2SKrN",
        "colab_type": "code",
        "colab": {}
      },
      "source": [
        "# For Training\n",
        "\n",
        "# Need to change type of column names so that they match\n",
        "# Rename all the columns in train_symbols by their pixel number\n",
        "new_list = list(range(784))\n",
        "new_list.append('Target')\n",
        "\n",
        "# Used to be train symbols\n",
        "train_digits.columns = new_list\n",
        "train_symbols.columns = new_list"
      ],
      "execution_count": 0,
      "outputs": []
    },
    {
      "cell_type": "code",
      "metadata": {
        "id": "KLecYof5yBXm",
        "colab_type": "code",
        "colab": {}
      },
      "source": [
        "# Merge two datasets for training\n",
        "\n",
        "merged_df = pd.concat([train_symbols, train_digits], ignore_index=True)\n",
        "merged_df.head()"
      ],
      "execution_count": 0,
      "outputs": []
    },
    {
      "cell_type": "code",
      "metadata": {
        "id": "V_H7wwJ0Igqe",
        "colab_type": "code",
        "colab": {}
      },
      "source": [
        "# See stratification of merged training data\n",
        "merged_df.groupby('Target')['Target'].agg('count')"
      ],
      "execution_count": 0,
      "outputs": []
    },
    {
      "cell_type": "code",
      "metadata": {
        "id": "1096ubLbGOaI",
        "colab_type": "code",
        "colab": {}
      },
      "source": [
        "# Merge two datasets for Testing\n",
        "\n",
        "new_list_test = list(range(784))\n",
        "new_list_test.append('Target')\n",
        "\n",
        "test_symbols.columns = new_list_test\n",
        "test_digits.columns = new_list_test\n",
        "\n",
        "merged_test_df = pd.concat([test_symbols, test_digits], ignore_index=True)\n",
        "merged_test_df.head()"
      ],
      "execution_count": 0,
      "outputs": []
    },
    {
      "cell_type": "code",
      "metadata": {
        "id": "-ERmvPrsIw0F",
        "colab_type": "code",
        "colab": {}
      },
      "source": [
        "# See stratification of merged training data\n",
        "merged_test_df.groupby('Target')['Target'].agg('count')"
      ],
      "execution_count": 0,
      "outputs": []
    },
    {
      "cell_type": "code",
      "metadata": {
        "id": "ysQvU_wS50Qz",
        "colab_type": "code",
        "colab": {}
      },
      "source": [
        "# Shuffle dataframe\n",
        "merged_df = merged_df.sample(frac=1).reset_index(drop=True)\n",
        "merged_test_df = merged_test_df.sample(frac=1).reset_index(drop=True)"
      ],
      "execution_count": 0,
      "outputs": []
    },
    {
      "cell_type": "code",
      "metadata": {
        "id": "F-ckhO2LzkaG",
        "colab_type": "code",
        "colab": {}
      },
      "source": [
        "# Check that dfs were merged correctly\n",
        "merged_test_df"
      ],
      "execution_count": 0,
      "outputs": []
    },
    {
      "cell_type": "code",
      "metadata": {
        "id": "EsztozSIHLgT",
        "colab_type": "code",
        "colab": {}
      },
      "source": [
        "# We need to invert the dataframes to be white digits and symbols on black\n",
        "inverted_df = merged_df\n",
        "inverted_df = inverted_df[[i for i in list(inverted_df.columns) if i != 'Target']]\n",
        "\n",
        "inverted_df = abs(1-inverted_df)\n",
        "\n",
        "inverted_df[\"Target\"] = merged_df[\"Target\"]\n",
        "\n",
        "\n",
        "inverted_test_df = merged_test_df\n",
        "inverted_test_df = inverted_test_df[[i for i in list(inverted_test_df.columns) if i != 'Target']]\n",
        "\n",
        "inverted_test_df = abs(1-inverted_test_df)\n",
        "\n",
        "inverted_test_df[\"Target\"] = merged_test_df[\"Target\"]"
      ],
      "execution_count": 0,
      "outputs": []
    },
    {
      "cell_type": "markdown",
      "metadata": {
        "id": "hSWB-KpeEE0A",
        "colab_type": "text"
      },
      "source": [
        "The next cell will save all the changes to the dataframes to new files called inverted_df and inverted_test_df, so that you don't have to run all this preprocessing stuff again."
      ]
    },
    {
      "cell_type": "code",
      "metadata": {
        "id": "GGyvt_byHy_Y",
        "colab_type": "code",
        "colab": {}
      },
      "source": [
        "inverted_df.to_csv('inverted_df.csv', index=False)\n",
        "inverted_test_df.to_csv('inverted_test_df.csv', index=False)"
      ],
      "execution_count": 0,
      "outputs": []
    }
  ]
}