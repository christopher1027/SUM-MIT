{
  "nbformat": 4,
  "nbformat_minor": 0,
  "metadata": {
    "colab": {
      "name": "SUM+MIT_Model.ipynb",
      "version": "0.3.2",
      "provenance": [],
      "collapsed_sections": [
        "Sp-TNOa4sJ2v",
        "TO0TfM4SSFFr"
      ],
      "toc_visible": true,
      "include_colab_link": true
    },
    "kernelspec": {
      "name": "python3",
      "display_name": "Python 3"
    }
  },
  "cells": [
    {
      "cell_type": "markdown",
      "metadata": {
        "id": "view-in-github",
        "colab_type": "text"
      },
      "source": [
        "<a href=\"https://colab.research.google.com/github/LizzetClifton/MathApp/blob/master/SUM%2BMIT_Model.ipynb\" target=\"_parent\"><img src=\"https://colab.research.google.com/assets/colab-badge.svg\" alt=\"Open In Colab\"/></a>"
      ]
    },
    {
      "cell_type": "markdown",
      "metadata": {
        "id": "oLPtAowKCWHN",
        "colab_type": "text"
      },
      "source": [
        "# SUM+MIT CNN Model"
      ]
    },
    {
      "cell_type": "markdown",
      "metadata": {
        "id": "WxxgFk68P4H4",
        "colab_type": "text"
      },
      "source": [
        "This notebook contains the training for the model, and the corresponding predictions, with the clean datasets. You must import inverted_df and inverted_test_df"
      ]
    },
    {
      "cell_type": "markdown",
      "metadata": {
        "id": "wKMvJ-juqNFo",
        "colab_type": "text"
      },
      "source": [
        "## CNN for Numbers & Symbols"
      ]
    },
    {
      "cell_type": "code",
      "metadata": {
        "colab_type": "code",
        "id": "yC46RauFzeoC",
        "colab": {}
      },
      "source": [
        "# Import all necessary packages\n",
        "from __future__ import absolute_import, division, print_function, unicode_literals\n",
        "\n",
        "import tensorflow as tf\n",
        "#from zipfile import ZipFile\n",
        "from sklearn.datasets import load_files\n",
        "import matplotlib.pyplot as plt \n",
        "import pandas as pd\n",
        "import cv2\n",
        "import math\n",
        "import imageio\n",
        "import numpy as np\n",
        "import os \n",
        "from keras.preprocessing.image import img_to_array\n",
        "from PIL import Image, ImageOps\n",
        "import glob\n",
        "import re"
      ],
      "execution_count": 0,
      "outputs": []
    },
    {
      "cell_type": "code",
      "metadata": {
        "colab_type": "code",
        "id": "M5FelvskzeoI",
        "colab": {}
      },
      "source": [
        "# Additional imports\n",
        "import logging\n",
        "logger = tf.get_logger()\n",
        "logger.setLevel(logging.ERROR)"
      ],
      "execution_count": 0,
      "outputs": []
    },
    {
      "cell_type": "code",
      "metadata": {
        "colab_type": "code",
        "id": "JxEVrg1KzeoJ",
        "colab": {}
      },
      "source": [
        "# read in clean datasets\n",
        "train_math = pd.read_csv('inverted_df.csv')\n",
        "test_math = pd.read_csv('inverted_test_df.csv')"
      ],
      "execution_count": 0,
      "outputs": []
    },
    {
      "cell_type": "code",
      "metadata": {
        "id": "MeJMlesTwYxg",
        "colab_type": "code",
        "colab": {}
      },
      "source": [
        "# Function to turn df into tensorflow dataset\n",
        "def tfDataset(math_dataset):\n",
        "  tf.enable_eager_execution()\n",
        "\n",
        "  # making a new list for columns so that they can be ints\n",
        "  # and the target can be a string\n",
        "  new_list = list(range(784))\n",
        "  new_list.append('Target')\n",
        "\n",
        "  # Used to be train symbols\n",
        "  math_dataset.columns = new_list\n",
        "  features = list(range(784))\n",
        "  \n",
        "  # Create tf training dataset\n",
        "  dataset = (\n",
        "      tf.data.Dataset.from_tensor_slices(\n",
        "          (\n",
        "              tf.cast(math_dataset[features].values, tf.float32),\n",
        "              tf.cast(math_dataset['Target'].values, tf.int32)\n",
        "          )\n",
        "      )\n",
        "  )\n",
        "\n",
        "  return dataset"
      ],
      "execution_count": 0,
      "outputs": []
    },
    {
      "cell_type": "code",
      "metadata": {
        "id": "gM6_DfYKw4LK",
        "colab_type": "code",
        "colab": {}
      },
      "source": [
        "# Turn train and test dataframes into tf datasets\n",
        "training_dataset = tfDataset(train_math)\n",
        "testing_dataset = tfDataset(test_math)"
      ],
      "execution_count": 0,
      "outputs": []
    },
    {
      "cell_type": "code",
      "metadata": {
        "id": "2vZFi8noiycu",
        "colab_type": "code",
        "colab": {}
      },
      "source": [
        "# Create the class names\n",
        "# These are the real class names, not the ones we mapped to numbers\n",
        "class_names = ['0', '1', '2', '3', '4', '5','6','7','8','9','-','+','times','div']"
      ],
      "execution_count": 0,
      "outputs": []
    },
    {
      "cell_type": "code",
      "metadata": {
        "id": "q-0EJAqfthLL",
        "colab_type": "code",
        "outputId": "c4d18db8-e777-4976-9dc1-8258cfc5e350",
        "colab": {
          "base_uri": "https://localhost:8080/",
          "height": 34
        }
      },
      "source": [
        "# Check number of training and testing examples\n",
        "num_train_examples = len(train_math)\n",
        "num_test_examples = len(test_math)\n",
        "\n",
        "print(num_train_examples, num_test_examples)"
      ],
      "execution_count": 0,
      "outputs": [
        {
          "output_type": "stream",
          "text": [
            "69776 12444\n"
          ],
          "name": "stdout"
        }
      ]
    },
    {
      "cell_type": "code",
      "metadata": {
        "id": "T6AaNgz5KxBm",
        "colab_type": "code",
        "colab": {}
      },
      "source": [
        "# Function will reshape each element in the tensor\n",
        "# from [784] array to [28,28,1] array\n",
        "def reshape(images, labels):\n",
        "  images = tf.reshape(images, (28,28,1))\n",
        "  return images, labels\n",
        "\n",
        "# The map function applies the reshaping function to each element in the train\n",
        "# and test datasets\n",
        "training_dataset =  training_dataset.map(reshape)\n",
        "testing_dataset  =  testing_dataset.map(reshape)"
      ],
      "execution_count": 0,
      "outputs": []
    },
    {
      "cell_type": "code",
      "metadata": {
        "id": "Y2MkCSNMiyKj",
        "colab_type": "code",
        "outputId": "31b9d0b6-7d7d-4636-8e11-3b3a70e7ce05",
        "colab": {
          "base_uri": "https://localhost:8080/",
          "height": 592
        }
      },
      "source": [
        "# We are reshaping and viewing 25 of the images from our dataset\n",
        "plt.figure(figsize=(10,10))\n",
        "i = 0\n",
        "\n",
        "for (image, label) in testing_dataset.take(25):\n",
        "    image = image.numpy().reshape((28,28))\n",
        "    plt.subplot(5,5,i+1)\n",
        "    plt.xticks([])\n",
        "    plt.yticks([])\n",
        "    plt.grid(False)\n",
        "    plt.imshow(image, cmap='gray')\n",
        "    plt.xlabel(class_names[label])\n",
        "    i += 1\n",
        "plt.show()"
      ],
      "execution_count": 0,
      "outputs": [
        {
          "output_type": "display_data",
          "data": {
            "image/png": "[encoded data removed]",
            "text/plain": [
              "<Figure size 720x720 with 25 Axes>"
            ]
          },
          "metadata": {
            "tags": []
          }
        }
      ]
    },
    {
      "cell_type": "markdown",
      "metadata": {
        "id": "Sp-TNOa4sJ2v",
        "colab_type": "text"
      },
      "source": [
        "### Build the Model"
      ]
    },
    {
      "cell_type": "code",
      "metadata": {
        "id": "F_TwscXjiyIF",
        "colab_type": "code",
        "colab": {}
      },
      "source": [
        "# Create the model\n",
        "model = tf.keras.Sequential([\n",
        "    # create first convolutional layer, with 3x3 filter and ReLu activation\n",
        "    tf.keras.layers.Conv2D(32, (3,3), padding='same', activation=tf.nn.relu,\n",
        "                           input_shape=(28, 28, 1)),\n",
        "    # Perform max pooling with 2x2 matrix\n",
        "    tf.keras.layers.MaxPooling2D((2, 2), strides=2),\n",
        "    tf.keras.layers.Conv2D(64, (3,3), padding='same', activation=tf.nn.relu),\n",
        "    tf.keras.layers.MaxPooling2D((2, 2), strides=2),\n",
        "    tf.keras.layers.Flatten(),\n",
        "    tf.keras.layers.Dense(128, activation=tf.nn.relu),\n",
        "    tf.keras.layers.Dense(14,  activation=tf.nn.softmax)\n",
        "])"
      ],
      "execution_count": 0,
      "outputs": []
    },
    {
      "cell_type": "code",
      "metadata": {
        "id": "r_vdzROGsK11",
        "colab_type": "code",
        "colab": {}
      },
      "source": [
        "# Compile the model\n",
        "model.compile(optimizer='adam', \n",
        "              loss='sparse_categorical_crossentropy',\n",
        "              metrics=['accuracy'])"
      ],
      "execution_count": 0,
      "outputs": []
    },
    {
      "cell_type": "code",
      "metadata": {
        "id": "RfJdr_EHsLgN",
        "colab_type": "code",
        "colab": {}
      },
      "source": [
        "BATCH_SIZE = 32\n",
        "# Shuffle() will allocate a buffer of size of the number of training examples\n",
        "# for picking random entries. Repeat() will re-initialize the dataset once all\n",
        "# examples have been taken. Finally, batch() creates batches of the dataset with\n",
        "# batch size given as batch_size which is also the length of the batches\n",
        "train_dataset = training_dataset.repeat().shuffle(num_train_examples).batch(BATCH_SIZE)\n",
        "test_dataset = testing_dataset.batch(BATCH_SIZE)"
      ],
      "execution_count": 0,
      "outputs": []
    },
    {
      "cell_type": "code",
      "metadata": {
        "id": "8dC8mP0bQObC",
        "colab_type": "code",
        "colab": {}
      },
      "source": [
        "checkpoint_path = \"folder_1/cp.ckpt\"\n",
        "checkpoint_dir = os.path.dirname(checkpoint_path)\n",
        "\n",
        "cp_callback = tf.keras.callbacks.ModelCheckpoint(checkpoint_path,\n",
        "                                                save_weights_only = True,\n",
        "                                                verbose=1)"
      ],
      "execution_count": 0,
      "outputs": []
    },
    {
      "cell_type": "code",
      "metadata": {
        "id": "LB3RUE9bsLdn",
        "colab_type": "code",
        "colab": {}
      },
      "source": [
        "# Train the model\n",
        "# .ceil() rounds number up to nearest integer\n",
        "model.fit(train_dataset, epochs=5, \n",
        "          steps_per_epoch=math.ceil(num_train_examples/BATCH_SIZE), \n",
        "          callbacks = [cp_callback])"
      ],
      "execution_count": 0,
      "outputs": []
    },
    {
      "cell_type": "markdown",
      "metadata": {
        "id": "TO0TfM4SSFFr",
        "colab_type": "text"
      },
      "source": [
        "### Let's evaluate accuracy"
      ]
    },
    {
      "cell_type": "code",
      "metadata": {
        "id": "aUFEl0z7sLbN",
        "colab_type": "code",
        "colab": {}
      },
      "source": [
        "test_loss, test_accuracy = model.evaluate(test_dataset, steps=math.ceil(num_test_examples/32))\n",
        "print('Accuracy on test dataset:', test_accuracy)"
      ],
      "execution_count": 0,
      "outputs": []
    },
    {
      "cell_type": "code",
      "metadata": {
        "id": "7zCwzGSxQtom",
        "colab_type": "code",
        "colab": {}
      },
      "source": [
        "model.load_weights(checkpoint_path)\n",
        "loss, acc = model.evaluate(test_dataset, steps = math.ceil(num_test_examples/32))\n",
        "print('Restored model accuracy:', acc)"
      ],
      "execution_count": 0,
      "outputs": []
    },
    {
      "cell_type": "code",
      "metadata": {
        "id": "lgHalP-JRA9s",
        "colab_type": "code",
        "colab": {}
      },
      "source": [
        "# Save the model\n",
        "model.save(\"cnn.h5\")"
      ],
      "execution_count": 0,
      "outputs": []
    },
    {
      "cell_type": "markdown",
      "metadata": {
        "id": "tZwywYPKcjL1",
        "colab_type": "text"
      },
      "source": [
        "### Loading model"
      ]
    },
    {
      "cell_type": "markdown",
      "metadata": {
        "id": "YonbBb88cn0H",
        "colab_type": "text"
      },
      "source": [
        "If you have already run the code up to here once in another session, then you should have saved a cnn.h5 file. If you already have that, you can skip the cells under \"Build the Model\" and \"Let's evaluate accuracy\" and run the cell below."
      ]
    },
    {
      "cell_type": "code",
      "metadata": {
        "id": "axYg9H6NcE8v",
        "colab_type": "code",
        "outputId": "6de30a7c-0049-47c4-8c53-9a95371be0af",
        "colab": {
          "base_uri": "https://localhost:8080/",
          "height": 425
        }
      },
      "source": [
        "new_model = tf.keras.models.load_model('cnn.h5')\n",
        "new_model.summary()\n",
        "BATCH_SIZE = 32\n",
        "test_dataset = testing_dataset.batch(BATCH_SIZE)\n",
        "loss, acc = new_model.evaluate(test_dataset, steps = math.ceil(num_test_examples/32))\n",
        "print('Restored model accuracy:', acc)"
      ],
      "execution_count": 0,
      "outputs": [
        {
          "output_type": "stream",
          "text": [
            "Model: \"sequential_1\"\n",
            "_________________________________________________________________\n",
            "Layer (type)                 Output Shape              Param #   \n",
            "=================================================================\n",
            "conv2d_2 (Conv2D)            (None, 28, 28, 32)        320       \n",
            "_________________________________________________________________\n",
            "max_pooling2d_2 (MaxPooling2 (None, 14, 14, 32)        0         \n",
            "_________________________________________________________________\n",
            "conv2d_3 (Conv2D)            (None, 14, 14, 64)        18496     \n",
            "_________________________________________________________________\n",
            "max_pooling2d_3 (MaxPooling2 (None, 7, 7, 64)          0         \n",
            "_________________________________________________________________\n",
            "flatten_1 (Flatten)          (None, 3136)              0         \n",
            "_________________________________________________________________\n",
            "dense_2 (Dense)              (None, 128)               401536    \n",
            "_________________________________________________________________\n",
            "dense_3 (Dense)              (None, 14)                1806      \n",
            "=================================================================\n",
            "Total params: 422,158\n",
            "Trainable params: 422,158\n",
            "Non-trainable params: 0\n",
            "_________________________________________________________________\n",
            "389/389 [==============================] - 6s 15ms/step - loss: 0.0283 - acc: 0.9920\n",
            "Restored model accuracy: 0.991964\n"
          ],
          "name": "stdout"
        }
      ]
    },
    {
      "cell_type": "markdown",
      "metadata": {
        "colab_type": "text",
        "id": "C9Hr-goCCIKi"
      },
      "source": [
        "## Let's make some predictions"
      ]
    },
    {
      "cell_type": "code",
      "metadata": {
        "colab_type": "code",
        "id": "5flWnX0jCIKg",
        "colab": {}
      },
      "source": [
        "# Get the first prediction\n",
        "for test_images, test_labels in test_dataset.take(1):\n",
        "  test_images = test_images.numpy()\n",
        "  test_labels = test_labels.numpy()\n",
        "  predictions = model.predict(test_images)"
      ],
      "execution_count": 0,
      "outputs": []
    },
    {
      "cell_type": "code",
      "metadata": {
        "colab_type": "code",
        "outputId": "ee845a41-2312-4e7a-db43-7aa69d8acf68",
        "id": "IpRnkaihCIKc",
        "colab": {
          "base_uri": "https://localhost:8080/",
          "height": 34
        }
      },
      "source": [
        "type(test_images)"
      ],
      "execution_count": 0,
      "outputs": [
        {
          "output_type": "execute_result",
          "data": {
            "text/plain": [
              "numpy.ndarray"
            ]
          },
          "metadata": {
            "tags": []
          },
          "execution_count": 21
        }
      ]
    },
    {
      "cell_type": "markdown",
      "metadata": {
        "colab_type": "text",
        "id": "4EDyBwSLCIKW"
      },
      "source": [
        "Here, the model has predicted the label for each image in the testing set. Let's take a look at the first prediction:"
      ]
    },
    {
      "cell_type": "code",
      "metadata": {
        "colab_type": "code",
        "outputId": "402c3549-1a7d-4900-f56e-7688905ea523",
        "id": "05wKXf6wCIKU",
        "colab": {
          "base_uri": "https://localhost:8080/",
          "height": 1000
        }
      },
      "source": [
        "# Prediction probabilities for each target\n",
        "predictions"
      ],
      "execution_count": 0,
      "outputs": [
        {
          "output_type": "execute_result",
          "data": {
            "text/plain": [
              "array([[1.18980900e-07, 5.47659056e-08, 4.02555571e-07, 9.65541549e-05,\n",
              "        2.07459088e-05, 1.55220987e-04, 1.05509190e-09, 1.54408661e-03,\n",
              "        1.25187653e-05, 9.98170257e-01, 1.74188652e-09, 2.37416629e-08,\n",
              "        1.52104676e-08, 2.06484092e-08],\n",
              "       [2.80652931e-11, 5.19234744e-09, 4.96094844e-06, 9.99994636e-01,\n",
              "        2.24240724e-13, 1.20088814e-07, 5.81751552e-13, 2.96760949e-09,\n",
              "        1.56736579e-08, 1.28899211e-08, 1.87842566e-16, 2.03595238e-13,\n",
              "        7.17412685e-10, 2.22408943e-07],\n",
              "       [8.46504399e-13, 3.06895465e-09, 9.99999762e-01, 1.01522289e-07,\n",
              "        4.17416761e-11, 2.07076110e-12, 4.10186858e-13, 1.40743602e-12,\n",
              "        9.92712117e-08, 1.40234629e-10, 1.53924119e-15, 2.04256653e-10,\n",
              "        1.20704322e-10, 4.17899937e-09],\n",
              "       [2.56804753e-07, 3.77040664e-07, 1.60853119e-06, 1.12410584e-04,\n",
              "        2.60701618e-05, 1.20695600e-04, 8.32255242e-09, 1.58396026e-04,\n",
              "        2.56096482e-05, 9.99554574e-01, 1.27108168e-09, 4.67364529e-08,\n",
              "        5.22594483e-08, 2.25283987e-08],\n",
              "       [3.82480669e-09, 1.11591708e-05, 9.99894977e-01, 7.77015666e-05,\n",
              "        6.45178030e-13, 8.95451491e-11, 3.06022652e-10, 7.68848363e-09,\n",
              "        1.58103176e-05, 3.32360918e-12, 1.40785823e-15, 1.30030287e-09,\n",
              "        2.31864306e-08, 2.96992681e-07],\n",
              "       [5.71175633e-06, 5.35868701e-08, 2.94092315e-04, 1.44908256e-07,\n",
              "        4.82361656e-06, 8.13923660e-04, 9.98851180e-01, 1.11237430e-09,\n",
              "        1.65376676e-07, 6.56482769e-07, 6.92323716e-12, 2.85074075e-05,\n",
              "        1.23401350e-07, 7.21508741e-07],\n",
              "       [1.50906899e-05, 4.42862301e-06, 5.86665876e-04, 1.03406033e-04,\n",
              "        9.92349684e-01, 1.92400603e-06, 3.74859866e-07, 9.31643590e-04,\n",
              "        6.90435481e-05, 5.91564411e-03, 3.83167587e-09, 2.15523760e-05,\n",
              "        1.22914102e-07, 4.22064772e-07],\n",
              "       [3.08293165e-05, 8.97547920e-08, 9.99451615e-03, 1.59601448e-03,\n",
              "        3.39755502e-06, 6.31390954e-04, 2.91625092e-05, 2.56577209e-07,\n",
              "        9.87215817e-01, 4.97548550e-04, 2.14628852e-13, 9.60891811e-08,\n",
              "        6.67589347e-07, 1.17224751e-07],\n",
              "       [1.05532075e-04, 2.51019490e-04, 2.73242570e-03, 4.02200362e-03,\n",
              "        5.96277356e-01, 5.81457838e-02, 7.22044930e-02, 3.01260327e-04,\n",
              "        9.80138313e-04, 2.64614254e-01, 8.48573052e-08, 3.35336110e-04,\n",
              "        1.90842493e-05, 1.12041243e-05],\n",
              "       [9.90898728e-01, 9.54372013e-07, 2.08695512e-03, 3.55484590e-05,\n",
              "        4.68505277e-06, 6.31476780e-07, 8.93209346e-07, 6.12504082e-03,\n",
              "        2.26117136e-05, 8.23797018e-04, 6.34563069e-10, 2.23363763e-08,\n",
              "        4.23650093e-08, 4.90667205e-08],\n",
              "       [3.55650513e-07, 1.03863727e-06, 2.44268536e-04, 1.77524416e-05,\n",
              "        5.30727675e-06, 5.07305340e-05, 2.29012107e-06, 1.76647329e-04,\n",
              "        1.93438536e-05, 7.24026768e-06, 9.96608973e-01, 1.53553952e-03,\n",
              "        5.92718652e-06, 1.32461684e-03],\n",
              "       [9.78383014e-07, 7.71962505e-07, 1.00073215e-04, 1.65951096e-05,\n",
              "        9.25933762e-07, 4.51476299e-05, 1.14949489e-06, 7.88718520e-04,\n",
              "        2.61354744e-05, 6.65139305e-06, 9.94510055e-01, 2.86102458e-03,\n",
              "        1.06335901e-05, 1.63101638e-03],\n",
              "       [5.79431116e-06, 3.44657892e-05, 4.93340311e-04, 9.47736561e-01,\n",
              "        2.00631512e-05, 1.79483742e-02, 2.36180745e-06, 1.55607634e-03,\n",
              "        2.68342160e-02, 5.33209322e-03, 2.36662867e-09, 3.11430199e-06,\n",
              "        8.39128825e-06, 2.51296460e-05],\n",
              "       [6.95824482e-08, 3.29710509e-10, 9.28793838e-07, 7.45759025e-05,\n",
              "        3.36323355e-05, 8.42134887e-06, 1.72974468e-10, 2.29026079e-01,\n",
              "        3.29607428e-06, 7.70852506e-01, 5.10340703e-09, 4.16486216e-07,\n",
              "        7.18109261e-09, 6.79841961e-08],\n",
              "       [9.99846101e-01, 2.48061190e-11, 6.09270792e-05, 4.51852102e-08,\n",
              "        5.50652812e-09, 7.72725002e-07, 6.77977027e-07, 3.67080406e-06,\n",
              "        3.51408153e-06, 8.42381269e-05, 3.36005942e-15, 1.86446789e-10,\n",
              "        7.40517370e-11, 6.28893770e-10],\n",
              "       [2.48789693e-05, 2.79788566e-08, 9.99268082e-07, 2.72086531e-08,\n",
              "        4.28936318e-07, 1.23758946e-04, 9.99832511e-01, 9.38930822e-10,\n",
              "        1.58586045e-05, 3.55598821e-08, 9.49074413e-15, 1.42765271e-06,\n",
              "        3.03836689e-09, 3.10048804e-08],\n",
              "       [3.27742922e-09, 2.42894941e-07, 2.63094826e-05, 4.63872311e-05,\n",
              "        9.97792482e-01, 2.90527605e-05, 3.78261916e-07, 9.29096188e-07,\n",
              "        1.48703391e-03, 4.64281708e-04, 3.01187512e-11, 7.68854807e-05,\n",
              "        7.60943876e-05, 4.88253571e-09],\n",
              "       [8.51123514e-06, 9.98250782e-01, 9.76475567e-05, 2.75198778e-04,\n",
              "        5.77853643e-06, 4.33723071e-05, 6.52864082e-06, 1.29459368e-04,\n",
              "        4.99702815e-04, 5.88301591e-05, 4.96108754e-09, 5.33108599e-04,\n",
              "        1.51990143e-05, 7.59342947e-05],\n",
              "       [1.04433020e-07, 2.87080297e-07, 1.92356049e-04, 7.13553436e-06,\n",
              "        1.21363723e-06, 1.23499503e-05, 5.98348436e-07, 9.96075032e-05,\n",
              "        1.03031743e-05, 2.97502402e-06, 9.98456597e-01, 7.34953268e-04,\n",
              "        2.66257098e-06, 4.78845643e-04],\n",
              "       [8.42587542e-06, 6.93962932e-07, 1.63180652e-04, 7.83890300e-06,\n",
              "        1.11248173e-05, 5.12177125e-03, 9.94460106e-01, 9.84708759e-10,\n",
              "        2.22213901e-04, 4.97529982e-07, 6.93906873e-14, 3.88875560e-06,\n",
              "        2.24262678e-07, 1.00921575e-07],\n",
              "       [4.39615615e-05, 3.38077939e-06, 1.87205127e-03, 1.51979132e-02,\n",
              "        1.60684613e-05, 7.74656422e-04, 1.52568127e-05, 6.12469148e-06,\n",
              "        9.79834855e-01, 2.22747703e-03, 1.66600865e-11, 3.35383817e-07,\n",
              "        7.67897836e-06, 2.39239483e-07],\n",
              "       [9.99519587e-01, 9.59929480e-07, 2.03279109e-04, 1.06431162e-06,\n",
              "        3.30860121e-06, 3.82694088e-06, 9.15166893e-05, 5.79847838e-05,\n",
              "        3.83141632e-05, 7.94615844e-05, 1.58235947e-09, 3.33409162e-07,\n",
              "        2.13545505e-07, 7.84378003e-08],\n",
              "       [4.46925128e-08, 1.23964383e-09, 9.26861503e-06, 2.49934928e-05,\n",
              "        2.55632543e-10, 7.81599852e-09, 6.60952282e-12, 9.99939084e-01,\n",
              "        1.82985033e-07, 2.63464535e-05, 6.67910033e-11, 1.63912954e-08,\n",
              "        4.57297880e-11, 4.52520332e-08],\n",
              "       [4.61995029e-07, 9.95141983e-01, 1.65518210e-03, 4.33574780e-04,\n",
              "        2.42592359e-05, 2.38363136e-04, 2.74780450e-05, 7.80921164e-06,\n",
              "        2.18598358e-03, 2.46861637e-05, 3.89150295e-10, 1.41097466e-04,\n",
              "        8.40944413e-05, 3.51071649e-05],\n",
              "       [4.39183879e-07, 1.06775281e-06, 3.67085071e-04, 1.76044960e-05,\n",
              "        6.35007473e-06, 2.24384639e-05, 1.06108462e-06, 3.15637270e-04,\n",
              "        1.68884089e-05, 8.19001343e-06, 9.94635642e-01, 2.18849885e-03,\n",
              "        7.39704274e-06, 2.41165957e-03],\n",
              "       [4.96860339e-05, 3.78269106e-05, 2.09438731e-04, 3.18652863e-04,\n",
              "        2.67251689e-05, 4.52875625e-04, 4.55103618e-05, 6.51946291e-03,\n",
              "        6.54661795e-04, 3.39780003e-04, 7.65360674e-05, 9.82090652e-01,\n",
              "        8.50490469e-04, 8.32766481e-03],\n",
              "       [3.91505779e-07, 8.91467153e-07, 4.99295769e-04, 1.54279351e-05,\n",
              "        6.75331012e-06, 5.84881054e-05, 2.98506575e-06, 5.09775091e-05,\n",
              "        2.29930811e-05, 1.17613372e-05, 9.96089697e-01, 2.50108889e-03,\n",
              "        5.66981043e-06, 7.33640161e-04],\n",
              "       [9.54325194e-04, 2.02827947e-03, 9.07906353e-01, 1.08499685e-02,\n",
              "        4.54922811e-05, 5.29096469e-05, 1.85763984e-05, 4.44742385e-03,\n",
              "        7.26773366e-02, 8.78363964e-04, 2.24500196e-09, 2.67502419e-05,\n",
              "        3.02143580e-05, 8.38452543e-05],\n",
              "       [6.16770080e-07, 1.07946889e-07, 8.12634426e-06, 3.68905748e-05,\n",
              "        2.66394977e-06, 9.78034077e-05, 1.80800726e-08, 2.35459855e-04,\n",
              "        1.10714335e-03, 9.98510897e-01, 8.21938184e-10, 8.36189500e-08,\n",
              "        7.59966312e-08, 1.86793798e-08],\n",
              "       [2.02436757e-04, 9.61162508e-01, 2.22107791e-03, 2.14481098e-03,\n",
              "        3.30260009e-05, 1.31641078e-04, 3.96684882e-05, 1.44433230e-03,\n",
              "        3.13106924e-02, 8.83965462e-04, 1.16988552e-08, 3.22091742e-04,\n",
              "        2.71508834e-05, 7.66143276e-05],\n",
              "       [1.14103393e-09, 5.18242729e-08, 8.78793784e-08, 9.99521852e-01,\n",
              "        1.10779745e-11, 4.77176800e-04, 6.04150951e-10, 3.67337538e-09,\n",
              "        4.83517397e-07, 1.74893899e-09, 1.08339614e-13, 1.19990073e-10,\n",
              "        1.11648191e-07, 1.85699790e-07],\n",
              "       [1.08741108e-06, 4.72895643e-08, 4.12270092e-05, 9.97431695e-01,\n",
              "        5.24101318e-11, 2.44760048e-03, 5.13066887e-08, 1.55925102e-06,\n",
              "        4.47574894e-06, 4.21675452e-07, 3.62078992e-13, 4.61729366e-09,\n",
              "        3.15403128e-07, 7.16103532e-05]], dtype=float32)"
            ]
          },
          "metadata": {
            "tags": []
          },
          "execution_count": 24
        }
      ]
    },
    {
      "cell_type": "markdown",
      "metadata": {
        "colab_type": "text",
        "id": "aTWaK1meCIKT"
      },
      "source": [
        "A prediction is an array of 14 numbers. These describe the \"confidence\" of the model that the image corresponds to each of the 14 different elements in the dataset (10 digits, 4 symbols). We can see which label has the highest confidence value:"
      ]
    },
    {
      "cell_type": "code",
      "metadata": {
        "colab_type": "code",
        "outputId": "c3bf12eb-e397-4a17-a3da-82f619fffead",
        "id": "JvRdOG7WCIKQ",
        "colab": {
          "base_uri": "https://localhost:8080/",
          "height": 34
        }
      },
      "source": [
        "np.argmax(predictions[0])"
      ],
      "execution_count": 0,
      "outputs": [
        {
          "output_type": "execute_result",
          "data": {
            "text/plain": [
              "9"
            ]
          },
          "metadata": {
            "tags": []
          },
          "execution_count": 26
        }
      ]
    },
    {
      "cell_type": "markdown",
      "metadata": {
        "colab_type": "text",
        "id": "IXHfPMHpCIKQ"
      },
      "source": [
        "So the model is most confident that this image is a 9 or `class_names[8]`. And we can check the test label to see this is correct:"
      ]
    },
    {
      "cell_type": "code",
      "metadata": {
        "colab_type": "code",
        "outputId": "9390e701-2fdb-4dae-a01c-b64d8ddc43a4",
        "id": "kE2_93XVCIKM",
        "colab": {
          "base_uri": "https://localhost:8080/",
          "height": 34
        }
      },
      "source": [
        "test_labels[0]"
      ],
      "execution_count": 0,
      "outputs": [
        {
          "output_type": "execute_result",
          "data": {
            "text/plain": [
              "9"
            ]
          },
          "metadata": {
            "tags": []
          },
          "execution_count": 27
        }
      ]
    },
    {
      "cell_type": "markdown",
      "metadata": {
        "colab_type": "text",
        "id": "8zphbyaNCIKJ"
      },
      "source": [
        "We can graph this to look at the full set of 14 class predictions"
      ]
    },
    {
      "cell_type": "code",
      "metadata": {
        "colab_type": "code",
        "id": "OwBcftN8CIKE",
        "colab": {}
      },
      "source": [
        "def plot_image(i, predictions_array, true_labels, images):\n",
        "  predictions_array, true_label, img = predictions_array[i], true_labels[i], images[i]\n",
        "  plt.grid(False)\n",
        "  plt.xticks([])\n",
        "  plt.yticks([])\n",
        "  \n",
        "  plt.imshow(img[...,0], cmap=plt.cm.binary)\n",
        "\n",
        "  predicted_label = np.argmax(predictions_array)\n",
        "  if predicted_label == true_label:\n",
        "    color = 'blue'\n",
        "  else:\n",
        "    color = 'red'\n",
        "  \n",
        "  plt.xlabel(\"{} {:2.0f}% ({})\".format(class_names[predicted_label],\n",
        "                                100*np.max(predictions_array),\n",
        "                                class_names[true_label]),\n",
        "                                color=color)"
      ],
      "execution_count": 0,
      "outputs": []
    },
    {
      "cell_type": "markdown",
      "metadata": {
        "colab_type": "text",
        "id": "NkeI068iCIKD"
      },
      "source": [
        "Let's look at the first image, predictions, and prediction array. "
      ]
    },
    {
      "cell_type": "code",
      "metadata": {
        "colab_type": "code",
        "outputId": "e554842f-6b6f-471a-97a4-571fd79a7ebf",
        "id": "yER-Q255CIJ5",
        "colab": {
          "base_uri": "https://localhost:8080/",
          "height": 201
        }
      },
      "source": [
        "i = 0\n",
        "plt.figure(figsize=(6,3))\n",
        "plt.subplot(1,2,1)\n",
        "plot_image(i, predictions, test_labels, test_images)"
      ],
      "execution_count": 0,
      "outputs": [
        {
          "output_type": "display_data",
          "data": {
            "image/png": "[encoded data removed]",
            "text/plain": [
              "<Figure size 432x216 with 1 Axes>"
            ]
          },
          "metadata": {
            "tags": []
          }
        }
      ]
    },
    {
      "cell_type": "markdown",
      "metadata": {
        "colab_type": "text",
        "id": "hOPnzj1ZCIJ2"
      },
      "source": [
        "Let's plot several images with their predictions. Correct prediction labels are blue and incorrect prediction labels are red. The number gives the percent (out of 100) for the predicted label. Note that it can be wrong even when very confident. "
      ]
    },
    {
      "cell_type": "code",
      "metadata": {
        "colab_type": "code",
        "outputId": "45cb243d-bc4b-4b94-8acd-8cae67755ca4",
        "id": "SFx9CM4LCIJs",
        "colab": {
          "base_uri": "https://localhost:8080/",
          "height": 592
        }
      },
      "source": [
        "# Plot the first X test images, their predicted label, and the true label\n",
        "# Color correct predictions in blue, incorrect predictions in red\n",
        "num_rows = 5\n",
        "num_cols = 3\n",
        "num_images = num_rows*num_cols\n",
        "plt.figure(figsize=(2*2*num_cols, 2*num_rows))\n",
        "for i in range(num_images):\n",
        "  plt.subplot(num_rows, 2*num_cols, 2*i+1)\n",
        "  plot_image(i, predictions, test_labels, test_images)"
      ],
      "execution_count": 0,
      "outputs": [
        {
          "output_type": "display_data",
          "data": {
            "image/png": "[encoded data removed]",
            "text/plain": [
              "<Figure size 864x720 with 15 Axes>"
            ]
          },
          "metadata": {
            "tags": []
          }
        }
      ]
    },
    {
      "cell_type": "markdown",
      "metadata": {
        "id": "L-rBHVzsC1aJ",
        "colab_type": "text"
      },
      "source": [
        "You now have a trained model and you can download the .h5 model file."
      ]
    }
  ]
}